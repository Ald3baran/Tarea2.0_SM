{
 "cells": [
  {
   "cell_type": "markdown",
   "metadata": {},
   "source": [
    "# Python se está convirtiendo en el lenguaje de codificación más popular del mundo.\n",
    "\n",
    ">\"CIERTAMENTE no me propuse crear un lenguaje destinado al consumo masivo\", \n",
    "\n",
    "dice Guido van Rossum, un informático holandés que ideó Python, un lenguaje de programación, en 1989. En los últimos 12 meses, los estadounidenses han buscado Python en Google con más frecuencia que Kim Kardashian, una estrella de televisión. El número de consultas se ha triplicado desde 2010, mientras que las de otros lenguajes de programación importantes han sido planas o en declive.\n",
    "\n",
    "Las dos ventajas principales del lenguaje son su simplicidad y flexibilidad. Su sintaxis directa y el uso de espacios sangrados hacen que sea fácil de aprender, leer y compartir. Sus ávidos practicantes, conocidos como Pythonistas, han subido 145,000 paquetes de software personalizados a un repositorio en línea. Estos cubren todo, desde el desarrollo del juego hasta la astronomía, y se pueden instalar e insertar en un programa Python en cuestión de segundos. Esta versatilidad significa que la Agencia Central de Inteligencia lo ha utilizado para piratear, Google para rastrear páginas web, Pixar para producir películas y Spotify para recomendar canciones. \n",
    "\n",
    "Con una base de usuarios de tan rápido crecimiento y una amplia gama de capacidades, Python puede parecer destinado a convertirse en la lengua franca de la codificación, dejando obsoletos a todos los demás competidores. Eso es poco probable, según Grady Booch, el principal científico de software de IBM, que compara los lenguajes de programación con los imperios. \n",
    "\n",
    "Aunque a veces una potencia en ascenso podría estar preparada para dominar el mundo, sus rivales generalmente sobreviven en los nichos técnicos y culturales en los que emergieron. Python no reemplazará C y C ++, que son \"opciones de nivel inferior\" que le dan al usuario más control sobre lo que está sucediendo en el procesador de una computadora. Tampoco eliminará Java, que es popular para crear aplicaciones complicadas, o JavaScript, que alimenta la mayoría de las páginas web.\n"
   ]
  },
  {
   "cell_type": "markdown",
   "metadata": {},
   "source": []
  }
 ],
 "metadata": {
  "kernelspec": {
   "display_name": "Python 3",
   "language": "python",
   "name": "python3"
  },
  "language_info": {
   "codemirror_mode": {
    "name": "ipython",
    "version": 3
   },
   "file_extension": ".py",
   "mimetype": "text/x-python",
   "name": "python",
   "nbconvert_exporter": "python",
   "pygments_lexer": "ipython3",
   "version": "3.7.1"
  }
 },
 "nbformat": 4,
 "nbformat_minor": 2
}
